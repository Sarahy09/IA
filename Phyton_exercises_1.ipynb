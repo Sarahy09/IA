{
  "nbformat": 4,
  "nbformat_minor": 0,
  "metadata": {
    "colab": {
      "provenance": [],
      "include_colab_link": true
    },
    "kernelspec": {
      "name": "python3",
      "display_name": "Python 3"
    },
    "language_info": {
      "name": "python"
    }
  },
  "cells": [
    {
      "cell_type": "markdown",
      "metadata": {
        "id": "view-in-github",
        "colab_type": "text"
      },
      "source": [
        "<a href=\"https://colab.research.google.com/github/Sarahy09/IA/blob/main/Phyton_exercises_1.ipynb\" target=\"_parent\"><img src=\"https://colab.research.google.com/assets/colab-badge.svg\" alt=\"Open In Colab\"/></a>"
      ]
    },
    {
      "cell_type": "markdown",
      "source": [
        "Itzel Sarahy Díaz López\n",
        "2077673\n",
        "Tuesday N4-N6"
      ],
      "metadata": {
        "id": "0Eslt3MizgE-"
      }
    },
    {
      "cell_type": "code",
      "execution_count": 8,
      "metadata": {
        "id": "n-FvMOeC-jdq",
        "colab": {
          "base_uri": "https://localhost:8080/"
        },
        "outputId": "dae09a26-33c0-4cd2-e47c-92fc92c8246d"
      },
      "outputs": [
        {
          "output_type": "stream",
          "name": "stdout",
          "text": [
            "Number of words: 334\n",
            "Number of sentences: 12\n",
            "Number of paragraphs: 1\n",
            "Average word length: 5.56\n",
            "Most common words:\n",
            "la: 26\n",
            "de: 19\n",
            "y: 16\n",
            "que: 10\n",
            "en: 9\n",
            "el: 8\n",
            "ia: 7\n",
            "se: 6\n",
            "a: 6\n",
            "inteligencia: 5\n"
          ]
        }
      ],
      "source": [
        "#Text Analysis Tool: Create a Python program that reads a text file and\n",
        "#performs various analyses on its content. The program should: Count the number\n",
        "#of words, sentences, and paragraphs. Calculate the average word length.\n",
        "#Identify the most common words and their frequencies.\n",
        "\n",
        "import re\n",
        "from collections import Counter\n",
        "\n",
        "def read_text_file(file_path):\n",
        "    with open(file_path, 'r') as file:\n",
        "        return file.read()\n",
        "\n",
        "def count_words(text):\n",
        "    words = re.findall(r'\\w+', text)\n",
        "    return len(words)\n",
        "\n",
        "def count_sentences(text):\n",
        "    sentences = re.split(r'[.!?]', text)\n",
        "    return len(sentences)\n",
        "\n",
        "def count_paragraphs(text):\n",
        "    paragraphs = re.split(r'\\n\\s*\\n', text)\n",
        "    return len(paragraphs)\n",
        "\n",
        "def average_word_length(text):\n",
        "    words = re.findall(r'\\w+', text)\n",
        "    total_length = sum(len(word) for word in words)\n",
        "    return total_length / len(words)\n",
        "\n",
        "def most_common_words(text, num_words=10):\n",
        "    words = re.findall(r'\\w+', text.lower())\n",
        "    word_counts = Counter(words)\n",
        "    return word_counts.most_common(num_words)\n",
        "\n",
        "# Path of the file you want to analize\n",
        "file_path = r'/AF1.txt'\n",
        "\n",
        "# Read the file\n",
        "text_content = read_text_file(file_path)\n",
        "\n",
        "# Perform analysis\n",
        "num_words = count_words(text_content)\n",
        "num_sentences = count_sentences(text_content)\n",
        "num_paragraphs = count_paragraphs(text_content)\n",
        "avg_word_length = average_word_length(text_content)\n",
        "common_words = most_common_words(text_content)\n",
        "\n",
        "# Print results\n",
        "print(f'Number of words: {num_words}')\n",
        "print(f'Number of sentences: {num_sentences}')\n",
        "print(f'Number of paragraphs: {num_paragraphs}')\n",
        "print(f'Average word length: {avg_word_length:.2f}')\n",
        "print(f'Most common words:')\n",
        "for word, freq in common_words:\n",
        "    print(f'{word}: {freq}')"
      ]
    },
    {
      "cell_type": "code",
      "execution_count": null,
      "metadata": {
        "colab": {
          "base_uri": "https://localhost:8080/"
        },
        "id": "vKXqAGEly26D",
        "outputId": "edc5ef87-2f6d-49b6-bdda-fa5007760779"
      },
      "outputs": [
        {
          "output_type": "stream",
          "name": "stdout",
          "text": [
            "Welcome to Hangman!\n",
            "_ _ _ _ _ _\n",
            "Guess a letter: m\n",
            "_ _ _ _ _ _\n",
            "Guess a letter: f\n",
            "f _ _ _ _ _\n",
            "Guess a letter: a\n",
            "f a _ _ _ _\n",
            "Guess a letter: t\n",
            "f a t _ _ _\n",
            "Guess a letter: h\n",
            "f a t h _ _\n",
            "Guess a letter: e\n",
            "f a t h e _\n",
            "Guess a letter: r\n",
            "f a t h e r\n",
            "Congratulations! You guessed the word!\n"
          ]
        }
      ],
      "source": [
        "#Hangman Game: Create a Python program that allows a user to play the game of\n",
        "#Hangman. The program should randomly select a word from a predefined list,\n",
        "#and the player must guess letters one at a time until they guess the word\n",
        "#correctly or run out of attempts.\n",
        "\n",
        "import random\n",
        "def choose_word():\n",
        "    words = ['itzel', 'mother', 'father', 'brotherisrael', 'brotherissack', 'family']\n",
        "    return random.choice(words)\n",
        "\n",
        "def display_word(word, guessed_letters):\n",
        "    displayed_word = ''\n",
        "    for letter in word:\n",
        "        if letter in guessed_letters:\n",
        "            displayed_word += letter + ' '\n",
        "        else:\n",
        "            displayed_word += '_ '\n",
        "    return displayed_word.strip()\n",
        "\n",
        "def hangman():\n",
        "    max_attempts = 6\n",
        "    guessed_letters = []\n",
        "    word = choose_word()\n",
        "\n",
        "    print(\"Welcome to Hangman!\")\n",
        "    print(display_word(word, guessed_letters))\n",
        "\n",
        "    while max_attempts > 0:\n",
        "        guess = input(\"Guess a letter: \").lower()\n",
        "\n",
        "        if len(guess) != 1 or not guess.isalpha():\n",
        "            print(\"Please enter a single letter.\")\n",
        "            continue\n",
        "\n",
        "        if guess in guessed_letters:\n",
        "            print(\"You already guessed that letter.\")\n",
        "            continue\n",
        "\n",
        "        guessed_letters.append(guess)\n",
        "\n",
        "        if guess not in word:\n",
        "            max_attempts -= 1\n",
        "\n",
        "        print(display_word(word, guessed_letters))\n",
        "\n",
        "        if '_' not in display_word(word, guessed_letters):\n",
        "            print(\"Congratulations! You guessed the word!\")\n",
        "            return\n",
        "\n",
        "    print(f\"Sorry, you ran out of attempts. The word was: {word}\")\n",
        "\n",
        "if __name__ == '__main__':\n",
        "    hangman()"
      ]
    },
    {
      "cell_type": "code",
      "source": [
        "#Number Guessing Game: Create a program that generates a random number between\n",
        "#1 and 100, and then asks the user to guess the number. The program should\n",
        "#provide hints to the user if the guessed number is greater or less than\n",
        "# the target number, and keep asking for a new guess until the user guesses\n",
        "#correctly.\n",
        "import random\n",
        "\n",
        "def number_guessing_game():\n",
        "    target_number = random.randint(50, 150)\n",
        "    attempts = 0\n",
        "\n",
        "    print(\"Welcome to the Number Guessing Game!\")\n",
        "    print(\"I have selected a random number between 50 and 150. Try to guess it.\")\n",
        "\n",
        "    while True:\n",
        "        user_guess = int(input(\"Your guess: \"))\n",
        "        attempts += 1\n",
        "\n",
        "        if user_guess < target_number:\n",
        "            print(\"Too low! Try guessing higher.\")\n",
        "        elif user_guess > target_number:\n",
        "            print(\"Too high! Try guessing lower.\")\n",
        "        else:\n",
        "            print(f\"Congratulations! You've guessed the number in {attempts} attempts.\")\n",
        "            break\n",
        "\n",
        "if __name__ == '__main__':\n",
        "    number_guessing_game()"
      ],
      "metadata": {
        "colab": {
          "base_uri": "https://localhost:8080/"
        },
        "id": "e1pQm1GIz_5w",
        "outputId": "0fa8fdc5-edf6-4134-f8a9-38f39ba9a245"
      },
      "execution_count": null,
      "outputs": [
        {
          "output_type": "stream",
          "name": "stdout",
          "text": [
            "Welcome to the Number Guessing Game!\n",
            "I have selected a random number between 50 and 150. Try to guess it.\n",
            "Your guess: 50\n",
            "Too low! Try guessing higher.\n",
            "Your guess: 80\n",
            "Too low! Try guessing higher.\n",
            "Your guess: 100\n",
            "Too high! Try guessing lower.\n",
            "Your guess: 95\n",
            "Too high! Try guessing lower.\n",
            "Your guess: 85\n",
            "Too low! Try guessing higher.\n",
            "Your guess: 86\n",
            "Congratulations! You've guessed the number in 6 attempts.\n"
          ]
        }
      ]
    }
  ]
}